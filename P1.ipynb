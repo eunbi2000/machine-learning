{
  "cells": [
    {
      "cell_type": "markdown",
      "metadata": {
        "id": "view-in-github",
        "colab_type": "text"
      },
      "source": [
        "<a href=\"https://colab.research.google.com/github/eunbi2000/machine-learning/blob/main/P1.ipynb\" target=\"_parent\"><img src=\"https://colab.research.google.com/assets/colab-badge.svg\" alt=\"Open In Colab\"/></a>"
      ]
    },
    {
      "cell_type": "markdown",
      "metadata": {
        "id": "1Tbf3TwiJSqC"
      },
      "source": [
        "# CSE378 Programming Assignment 1 -- Behavior Cloning from Numerical States\n",
        "In this assignment, we will provide you a dataset and use different machine learning algorithms to implement a basic behavior cloning policy. The robot task is reaching to the block and tring to grasp it.\n",
        "\n",
        "###Please only add/change the part surrounded by the marks below\n",
        "```\n",
        "#====Please write your codes here======\n",
        "\n",
        "#======================================\n",
        "```\n",
        "\n",
        "###Submission\n",
        "\n",
        "Please submit the required materials through Brightspace. The instructions are below and they are also available in Brightspace:\n",
        "\n",
        "- Please find the assignment in attached colab or this link https://colab.research.google.com/drive/1_b7bAVz8w0CtCxfedNzQN3s3BaoPhqV5?usp=sharing. Oh you are actually viewing this colab, good job!\n",
        "\n",
        "- Please use your **@stonybrook.edu** account to access the assignment colab and edit its copy.\n",
        "\n",
        "- For submission, please submit **(1) a link to your finished colab and (2) a copy of your colab file.**\n",
        "  - To get the link and share it, please reach to colab top right -- share->general access->select Stony Brook University, and submit the link in this assignment.\n",
        "  - To get a copy of your colab, reach to colab top left -- file->download->download .ipynb. The format of the submitted filename will follow \\<SBUID\\>_\\<last name\\>_\\<first name\\>_cse378pa1.ipynb. For example: 123445678_carrot_melon_cse378pa1.ipynb\n",
        "\n",
        "- Note on rubric: the assignment will focus on implementing the algorithm correctly. The actual performance e.g., evaluation results is not important.&nbsp;</first></last></sbu>\n",
        "\n",
        "Now, let's begin!"
      ]
    },
    {
      "cell_type": "markdown",
      "metadata": {
        "id": "nfC9UXcUJSqE"
      },
      "source": [
        "**Check whether you are connected to a GPU runtime**\n",
        "\n",
        "For this tutorial, we **don't** need GPU.\n",
        "\n",
        "If you want to use GPU, and the cell below (after you run it) says False, you need to go to top right (where it shows \"RAM\", \"Disk\" or \"Connect\"). Click the drop down and then \"Change runtime type\". Select \"T4 GPU\". If it warns you delete the current runtime, click \"OK\"."
      ]
    },
    {
      "cell_type": "code",
      "execution_count": null,
      "metadata": {
        "colab": {
          "base_uri": "https://localhost:8080/"
        },
        "id": "FAY2HAnZJSqE",
        "outputId": "d39ea588-5918-4e3a-f9bb-b31ca9613b70"
      },
      "outputs": [
        {
          "output_type": "execute_result",
          "data": {
            "text/plain": [
              "False"
            ]
          },
          "metadata": {},
          "execution_count": 1
        }
      ],
      "source": [
        "import torch\n",
        "torch.cuda.is_available()"
      ]
    },
    {
      "cell_type": "markdown",
      "metadata": {
        "id": "JJQRq7knJSqF"
      },
      "source": [
        "**Install dependencies**\n",
        "\n",
        "You don't need to modify this.\n",
        "\n",
        "It takes ~10 mins to install pybullet for the first time. Be patient. You will see the elapsed time in the status bar at the bottom of this page."
      ]
    },
    {
      "cell_type": "code",
      "execution_count": null,
      "metadata": {
        "colab": {
          "base_uri": "https://localhost:8080/"
        },
        "id": "Cue4JZGWJSqF",
        "outputId": "e940f552-e2fe-4728-e5b4-8302637f3017"
      },
      "outputs": [
        {
          "output_type": "stream",
          "name": "stdout",
          "text": [
            "Collecting ftfy\n",
            "  Downloading ftfy-6.1.1-py3-none-any.whl (53 kB)\n",
            "\u001b[2K     \u001b[90m━━━━━━━━━━━━━━━━━━━━━━━━━━━━━━━━━━━━━━━━\u001b[0m \u001b[32m53.1/53.1 kB\u001b[0m \u001b[31m396.8 kB/s\u001b[0m eta \u001b[36m0:00:00\u001b[0m\n",
            "\u001b[?25hRequirement already satisfied: regex in /usr/local/lib/python3.10/dist-packages (2023.6.3)\n",
            "Requirement already satisfied: tqdm in /usr/local/lib/python3.10/dist-packages (4.66.1)\n",
            "Collecting fvcore\n",
            "  Downloading fvcore-0.1.5.post20221221.tar.gz (50 kB)\n",
            "\u001b[2K     \u001b[90m━━━━━━━━━━━━━━━━━━━━━━━━━━━━━━━━━━━━━━━━\u001b[0m \u001b[32m50.2/50.2 kB\u001b[0m \u001b[31m896.2 kB/s\u001b[0m eta \u001b[36m0:00:00\u001b[0m\n",
            "\u001b[?25h  Preparing metadata (setup.py) ... \u001b[?25l\u001b[?25hdone\n",
            "Requirement already satisfied: imageio in /usr/local/lib/python3.10/dist-packages (2.31.5)\n",
            "Requirement already satisfied: moviepy in /usr/local/lib/python3.10/dist-packages (1.0.3)\n",
            "Requirement already satisfied: wcwidth>=0.2.5 in /usr/local/lib/python3.10/dist-packages (from ftfy) (0.2.8)\n",
            "Requirement already satisfied: numpy in /usr/local/lib/python3.10/dist-packages (from fvcore) (1.23.5)\n",
            "Collecting yacs>=0.1.6 (from fvcore)\n",
            "  Downloading yacs-0.1.8-py3-none-any.whl (14 kB)\n",
            "Requirement already satisfied: pyyaml>=5.1 in /usr/local/lib/python3.10/dist-packages (from fvcore) (6.0.1)\n",
            "Requirement already satisfied: termcolor>=1.1 in /usr/local/lib/python3.10/dist-packages (from fvcore) (2.3.0)\n",
            "Requirement already satisfied: Pillow in /usr/local/lib/python3.10/dist-packages (from fvcore) (9.4.0)\n",
            "Requirement already satisfied: tabulate in /usr/local/lib/python3.10/dist-packages (from fvcore) (0.9.0)\n",
            "Collecting iopath>=0.1.7 (from fvcore)\n",
            "  Downloading iopath-0.1.10.tar.gz (42 kB)\n",
            "\u001b[2K     \u001b[90m━━━━━━━━━━━━━━━━━━━━━━━━━━━━━━━━━━━━━━━━\u001b[0m \u001b[32m42.2/42.2 kB\u001b[0m \u001b[31m3.3 MB/s\u001b[0m eta \u001b[36m0:00:00\u001b[0m\n",
            "\u001b[?25h  Preparing metadata (setup.py) ... \u001b[?25l\u001b[?25hdone\n",
            "Requirement already satisfied: decorator<5.0,>=4.0.2 in /usr/local/lib/python3.10/dist-packages (from moviepy) (4.4.2)\n",
            "Requirement already satisfied: requests<3.0,>=2.8.1 in /usr/local/lib/python3.10/dist-packages (from moviepy) (2.31.0)\n",
            "Requirement already satisfied: proglog<=1.0.0 in /usr/local/lib/python3.10/dist-packages (from moviepy) (0.1.10)\n",
            "Requirement already satisfied: imageio-ffmpeg>=0.2.0 in /usr/local/lib/python3.10/dist-packages (from moviepy) (0.4.9)\n",
            "Requirement already satisfied: setuptools in /usr/local/lib/python3.10/dist-packages (from imageio-ffmpeg>=0.2.0->moviepy) (67.7.2)\n",
            "Requirement already satisfied: typing_extensions in /usr/local/lib/python3.10/dist-packages (from iopath>=0.1.7->fvcore) (4.5.0)\n",
            "Collecting portalocker (from iopath>=0.1.7->fvcore)\n",
            "  Downloading portalocker-2.8.2-py3-none-any.whl (17 kB)\n",
            "Requirement already satisfied: charset-normalizer<4,>=2 in /usr/local/lib/python3.10/dist-packages (from requests<3.0,>=2.8.1->moviepy) (3.3.0)\n",
            "Requirement already satisfied: idna<4,>=2.5 in /usr/local/lib/python3.10/dist-packages (from requests<3.0,>=2.8.1->moviepy) (3.4)\n",
            "Requirement already satisfied: urllib3<3,>=1.21.1 in /usr/local/lib/python3.10/dist-packages (from requests<3.0,>=2.8.1->moviepy) (2.0.6)\n",
            "Requirement already satisfied: certifi>=2017.4.17 in /usr/local/lib/python3.10/dist-packages (from requests<3.0,>=2.8.1->moviepy) (2023.7.22)\n",
            "Building wheels for collected packages: fvcore, iopath\n",
            "  Building wheel for fvcore (setup.py) ... \u001b[?25l\u001b[?25hdone\n",
            "  Created wheel for fvcore: filename=fvcore-0.1.5.post20221221-py3-none-any.whl size=61400 sha256=20677872dafa8fa5459c6bad2c01ca562e664fb41e4f9b77c3791f28280844f5\n",
            "  Stored in directory: /root/.cache/pip/wheels/01/c0/af/77c1cf53a1be9e42a52b48e5af2169d40ec2e89f7362489dd0\n",
            "  Building wheel for iopath (setup.py) ... \u001b[?25l\u001b[?25hdone\n",
            "  Created wheel for iopath: filename=iopath-0.1.10-py3-none-any.whl size=31530 sha256=01ded7b19e0611b01d56d4cf57b7602ea287e2c5e366e6452f114ec89d8fb819\n",
            "  Stored in directory: /root/.cache/pip/wheels/9a/a3/b6/ac0fcd1b4ed5cfeb3db92e6a0e476cfd48ed0df92b91080c1d\n",
            "Successfully built fvcore iopath\n",
            "Installing collected packages: yacs, portalocker, ftfy, iopath, fvcore\n",
            "Successfully installed ftfy-6.1.1 fvcore-0.1.5.post20221221 iopath-0.1.10 portalocker-2.8.2 yacs-0.1.8\n",
            "Requirement already satisfied: gdown in /usr/local/lib/python3.10/dist-packages (4.6.6)\n",
            "Collecting gdown\n",
            "  Downloading gdown-4.7.1-py3-none-any.whl (15 kB)\n",
            "Requirement already satisfied: filelock in /usr/local/lib/python3.10/dist-packages (from gdown) (3.12.4)\n",
            "Requirement already satisfied: requests[socks] in /usr/local/lib/python3.10/dist-packages (from gdown) (2.31.0)\n",
            "Requirement already satisfied: six in /usr/local/lib/python3.10/dist-packages (from gdown) (1.16.0)\n",
            "Requirement already satisfied: tqdm in /usr/local/lib/python3.10/dist-packages (from gdown) (4.66.1)\n",
            "Requirement already satisfied: beautifulsoup4 in /usr/local/lib/python3.10/dist-packages (from gdown) (4.11.2)\n",
            "Requirement already satisfied: soupsieve>1.2 in /usr/local/lib/python3.10/dist-packages (from beautifulsoup4->gdown) (2.5)\n",
            "Requirement already satisfied: charset-normalizer<4,>=2 in /usr/local/lib/python3.10/dist-packages (from requests[socks]->gdown) (3.3.0)\n",
            "Requirement already satisfied: idna<4,>=2.5 in /usr/local/lib/python3.10/dist-packages (from requests[socks]->gdown) (3.4)\n",
            "Requirement already satisfied: urllib3<3,>=1.21.1 in /usr/local/lib/python3.10/dist-packages (from requests[socks]->gdown) (2.0.6)\n",
            "Requirement already satisfied: certifi>=2017.4.17 in /usr/local/lib/python3.10/dist-packages (from requests[socks]->gdown) (2023.7.22)\n",
            "Requirement already satisfied: PySocks!=1.5.7,>=1.5.6 in /usr/local/lib/python3.10/dist-packages (from requests[socks]->gdown) (1.7.1)\n",
            "Installing collected packages: gdown\n",
            "  Attempting uninstall: gdown\n",
            "    Found existing installation: gdown 4.6.6\n",
            "    Uninstalling gdown-4.6.6:\n",
            "      Successfully uninstalled gdown-4.6.6\n",
            "Successfully installed gdown-4.7.1\n",
            "Collecting pybullet\n",
            "  Downloading pybullet-3.2.5.tar.gz (80.5 MB)\n",
            "\u001b[2K     \u001b[90m━━━━━━━━━━━━━━━━━━━━━━━━━━━━━━━━━━━━━━━━\u001b[0m \u001b[32m80.5/80.5 MB\u001b[0m \u001b[31m7.7 MB/s\u001b[0m eta \u001b[36m0:00:00\u001b[0m\n",
            "\u001b[?25h  Preparing metadata (setup.py) ... \u001b[?25l\u001b[?25hdone\n",
            "Building wheels for collected packages: pybullet\n",
            "  Building wheel for pybullet (setup.py) ... \u001b[?25l\u001b[?25hdone\n",
            "  Created wheel for pybullet: filename=pybullet-3.2.5-cp310-cp310-linux_x86_64.whl size=99850573 sha256=c3d7ea2b0168614d723b4dac38dfeaa02daccb4b30456c757d99ac3eff5b8b3d\n",
            "  Stored in directory: /root/.cache/pip/wheels/6b/fa/1a/c315a5133f0c9bf202a6daa5d70891120e7fe403e06e3407cc\n",
            "Successfully built pybullet\n",
            "Installing collected packages: pybullet\n",
            "Successfully installed pybullet-3.2.5\n",
            "Requirement already satisfied: easydict in /usr/local/lib/python3.10/dist-packages (1.10)\n",
            "Requirement already satisfied: imageio-ffmpeg in /usr/local/lib/python3.10/dist-packages (0.4.9)\n",
            "Requirement already satisfied: setuptools in /usr/local/lib/python3.10/dist-packages (from imageio-ffmpeg) (67.7.2)\n"
          ]
        }
      ],
      "source": [
        "!pip install ftfy regex tqdm fvcore imageio moviepy\n",
        "!pip install -U --no-cache-dir gdown --pre\n",
        "!pip install pybullet\n",
        "!pip install easydict\n",
        "!pip install imageio-ffmpeg"
      ]
    },
    {
      "cell_type": "markdown",
      "metadata": {
        "id": "kG1DOSRYJSqF"
      },
      "source": [
        "**Download 3d models**\n",
        "\n",
        "You don't need to modify this.\n"
      ]
    },
    {
      "cell_type": "code",
      "execution_count": null,
      "metadata": {
        "colab": {
          "base_uri": "https://localhost:8080/"
        },
        "id": "dLWKqJuvJSqG",
        "outputId": "663c1340-3857-47bb-e868-1898d8debfc2"
      },
      "outputs": [
        {
          "output_type": "stream",
          "name": "stdout",
          "text": [
            "/usr/local/lib/python3.10/dist-packages/gdown/cli.py:126: FutureWarning: Option `--id` was deprecated in version 4.3.1 and will be removed in 5.0. You don't need to pass it anymore to use a file ID.\n",
            "  warnings.warn(\n",
            "Downloading...\n",
            "From: https://drive.google.com/uc?id=1Cc_fDSBL6QiDvNT4dpfAEbhbALSVoWcc\n",
            "To: /content/ur5e.zip\n",
            "100% 2.94M/2.94M [00:00<00:00, 72.0MB/s]\n",
            "/usr/local/lib/python3.10/dist-packages/gdown/cli.py:126: FutureWarning: Option `--id` was deprecated in version 4.3.1 and will be removed in 5.0. You don't need to pass it anymore to use a file ID.\n",
            "  warnings.warn(\n",
            "Downloading...\n",
            "From: https://drive.google.com/uc?id=1yOMEm-Zp_DL3nItG9RozPeJAmeOldekX\n",
            "To: /content/robotiq_2f_85.zip\n",
            "100% 2.33M/2.33M [00:00<00:00, 50.3MB/s]\n",
            "/usr/local/lib/python3.10/dist-packages/gdown/cli.py:126: FutureWarning: Option `--id` was deprecated in version 4.3.1 and will be removed in 5.0. You don't need to pass it anymore to use a file ID.\n",
            "  warnings.warn(\n",
            "Downloading...\n",
            "From: https://drive.google.com/uc?id=1GsqNLhEl9dd4Mc3BM0dX3MibOI1FVWNM\n",
            "To: /content/bowl.zip\n",
            "100% 181k/181k [00:00<00:00, 81.3MB/s]\n",
            "Archive:  ur5e.zip\n",
            "   creating: ur5e/\n",
            "   creating: ur5e/collision/\n",
            "  inflating: ur5e/collision/base.stl  \n",
            "  inflating: ur5e/collision/forearm.stl  \n",
            "  inflating: ur5e/collision/shoulder.stl  \n",
            "  inflating: ur5e/collision/upperarm.stl  \n",
            "  inflating: ur5e/collision/wrist1.stl  \n",
            "  inflating: ur5e/collision/wrist2.stl  \n",
            "  inflating: ur5e/collision/wrist3.stl  \n",
            "  inflating: ur5e/ur5e.urdf          \n",
            "   creating: ur5e/visual/\n",
            "  inflating: ur5e/visual/base.dae    \n",
            "  inflating: ur5e/visual/forearm.dae  \n",
            "  inflating: ur5e/visual/shoulder.dae  \n",
            "  inflating: ur5e/visual/upperarm.dae  \n",
            "  inflating: ur5e/visual/wrist1.dae  \n",
            "  inflating: ur5e/visual/wrist2.dae  \n",
            "  inflating: ur5e/visual/wrist3.dae  \n",
            "Archive:  robotiq_2f_85.zip\n",
            "   creating: robotiq_2f_85/\n",
            "  inflating: robotiq_2f_85/README.md  \n",
            "  inflating: robotiq_2f_85/robotiq-2f-base.mtl  \n",
            "  inflating: robotiq_2f_85/robotiq-2f-base.obj  \n",
            "  inflating: robotiq_2f_85/robotiq-2f-base.stl  \n",
            "  inflating: robotiq_2f_85/robotiq-2f-coupler.mtl  \n",
            "  inflating: robotiq_2f_85/robotiq-2f-coupler.obj  \n",
            "  inflating: robotiq_2f_85/robotiq-2f-coupler.stl  \n",
            "  inflating: robotiq_2f_85/robotiq-2f-driver.mtl  \n",
            "  inflating: robotiq_2f_85/robotiq-2f-driver.obj  \n",
            "  inflating: robotiq_2f_85/robotiq-2f-driver.stl  \n",
            "  inflating: robotiq_2f_85/robotiq-2f-follower.mtl  \n",
            "  inflating: robotiq_2f_85/robotiq-2f-follower.obj  \n",
            "  inflating: robotiq_2f_85/robotiq-2f-follower.stl  \n",
            "  inflating: robotiq_2f_85/robotiq-2f-pad.stl  \n",
            "  inflating: robotiq_2f_85/robotiq-2f-spring_link.mtl  \n",
            "  inflating: robotiq_2f_85/robotiq-2f-spring_link.obj  \n",
            "  inflating: robotiq_2f_85/robotiq-2f-spring_link.stl  \n",
            "  inflating: robotiq_2f_85/robotiq_2f_85.urdf  \n",
            "   creating: robotiq_2f_85/textures/\n",
            "  inflating: robotiq_2f_85/textures/gripper-2f_BaseColor.jpg  \n",
            "  inflating: robotiq_2f_85/textures/gripper-2f_Metallic.jpg  \n",
            "  inflating: robotiq_2f_85/textures/gripper-2f_Normal.jpg  \n",
            "  inflating: robotiq_2f_85/textures/gripper-2f_Roughness.jpg  \n",
            "Archive:  bowl.zip\n",
            "   creating: bowl/\n",
            "  inflating: bowl/bowl.urdf          \n",
            "  inflating: bowl/cup.obj            \n",
            "  inflating: bowl/textured-0008192.obj  \n"
          ]
        }
      ],
      "source": [
        "import os\n",
        "if not os.path.exists('ur5e/ur5e.urdf'):\n",
        "  !gdown --id 1Cc_fDSBL6QiDvNT4dpfAEbhbALSVoWcc\n",
        "  !gdown --id 1yOMEm-Zp_DL3nItG9RozPeJAmeOldekX\n",
        "  !gdown --id 1GsqNLhEl9dd4Mc3BM0dX3MibOI1FVWNM\n",
        "  !unzip ur5e.zip\n",
        "  !unzip robotiq_2f_85.zip\n",
        "  !unzip bowl.zip"
      ]
    },
    {
      "cell_type": "markdown",
      "metadata": {
        "id": "JDFyEhQEJSqG"
      },
      "source": [
        "**Download prepared simulated environment implementation**"
      ]
    },
    {
      "cell_type": "code",
      "execution_count": null,
      "metadata": {
        "colab": {
          "base_uri": "https://localhost:8080/"
        },
        "id": "O6-fZ4dMJSqG",
        "outputId": "1f950f6c-3980-41ea-b03e-ea3bdb78c749"
      },
      "outputs": [
        {
          "output_type": "stream",
          "name": "stdout",
          "text": [
            "/usr/local/lib/python3.10/dist-packages/gdown/cli.py:126: FutureWarning: Option `--id` was deprecated in version 4.3.1 and will be removed in 5.0. You don't need to pass it anymore to use a file ID.\n",
            "  warnings.warn(\n",
            "Retrieving folder list\n",
            "Processing file 1lU3DkL9aOFLeDPpSZREWI10edUBRDogJ __init__.py\n",
            "Processing file 1lZsvJOeiR6bmAk1IzDaS0FGnCO6ajwn7 base_env.py\n",
            "Processing file 1lZXtHAl-ZXgVL3m71-vSB8M1ukSqTA06 pick_env.py\n",
            "Retrieving folder list completed\n",
            "Building directory structure\n",
            "Building directory structure completed\n",
            "Downloading...\n",
            "From (uriginal): https://drive.google.com/uc?id=1lU3DkL9aOFLeDPpSZREWI10edUBRDogJ\n",
            "From (redirected): https://drive.google.com/uc?id=1lU3DkL9aOFLeDPpSZREWI10edUBRDogJ&confirm=t&uuid=0fa76156-9845-4567-9a20-7551be839e04\n",
            "To: /content/env/__init__.py\n",
            "100% 44.0/44.0 [00:00<00:00, 167kB/s]\n",
            "Downloading...\n",
            "From (uriginal): https://drive.google.com/uc?id=1lZsvJOeiR6bmAk1IzDaS0FGnCO6ajwn7\n",
            "From (redirected): https://drive.google.com/uc?id=1lZsvJOeiR6bmAk1IzDaS0FGnCO6ajwn7&confirm=t&uuid=c7fdcf24-4fc2-4e54-82d8-1a506da3d664\n",
            "To: /content/env/base_env.py\n",
            "100% 20.1k/20.1k [00:00<00:00, 44.3MB/s]\n",
            "Downloading...\n",
            "From (uriginal): https://drive.google.com/uc?id=1lZXtHAl-ZXgVL3m71-vSB8M1ukSqTA06\n",
            "From (redirected): https://drive.google.com/uc?id=1lZXtHAl-ZXgVL3m71-vSB8M1ukSqTA06&confirm=t&uuid=26d1aa41-d88a-44a2-836e-129eda87b147\n",
            "To: /content/env/pick_env.py\n",
            "100% 8.37k/8.37k [00:00<00:00, 24.8MB/s]\n",
            "Download completed\n"
          ]
        }
      ],
      "source": [
        "import os\n",
        "if not os.path.exists('env'):\n",
        "  !gdown --id --folder 1lTSXnzcxmhHde0ZciDUjwuGpWKYcca9q"
      ]
    },
    {
      "cell_type": "markdown",
      "metadata": {
        "id": "1RAAuHgCJSqH"
      },
      "source": [
        "**Download dataset**"
      ]
    },
    {
      "cell_type": "code",
      "execution_count": null,
      "metadata": {
        "colab": {
          "base_uri": "https://localhost:8080/"
        },
        "id": "nbaWq0yiJSqH",
        "outputId": "2d6cd849-a569-430a-a745-43fef9732b70"
      },
      "outputs": [
        {
          "output_type": "stream",
          "name": "stdout",
          "text": [
            "/usr/local/lib/python3.10/dist-packages/gdown/cli.py:126: FutureWarning: Option `--id` was deprecated in version 4.3.1 and will be removed in 5.0. You don't need to pass it anymore to use a file ID.\n",
            "  warnings.warn(\n",
            "Downloading...\n",
            "From (uriginal): https://drive.google.com/uc?id=1lXRLmG1uGrTir9CkLXYgJV9-JSmZ2KTQ\n",
            "From (redirected): https://drive.google.com/uc?id=1lXRLmG1uGrTir9CkLXYgJV9-JSmZ2KTQ&confirm=t&uuid=1ac2a64d-25a9-49ae-9437-b7ff7ea3c13c\n",
            "To: /content/pa1_grasp_dataset.pkl\n",
            "100% 329M/329M [00:02<00:00, 112MB/s]\n"
          ]
        }
      ],
      "source": [
        "import os\n",
        "if not os.path.exists('pa1_grasp_dataset.pkl'):\n",
        "  !gdown --id 1lXRLmG1uGrTir9CkLXYgJV9-JSmZ2KTQ"
      ]
    },
    {
      "cell_type": "code",
      "execution_count": null,
      "metadata": {
        "id": "t9Ze8qpSJSqH"
      },
      "outputs": [],
      "source": [
        "# import packages we need\n",
        "\n",
        "import torch        # for machine learning\n",
        "import numpy as np  # for basic arrays\n",
        "import pickle       # for loading data\n",
        "\n",
        "from env import PickObjectEnv # import the simulated environment"
      ]
    },
    {
      "cell_type": "code",
      "execution_count": null,
      "metadata": {
        "colab": {
          "base_uri": "https://localhost:8080/"
        },
        "id": "_xruiKTsJSqH",
        "outputId": "f4d064ea-a55b-48bd-8f7f-308c7d5f6171"
      },
      "outputs": [
        {
          "output_type": "stream",
          "name": "stdout",
          "text": [
            "# datapoints in the dataset: 1900\n",
            "Shape of image observations (1900, 240, 240, 3)\n",
            "Shape of states (1900, 10)\n",
            "Shape of states (1900, 6)\n",
            "Shape of actions (1900, 4)\n"
          ]
        }
      ],
      "source": [
        "# function to load our behavior cloning dataset\n",
        "def load_dataset(dataset_filename):\n",
        "    with open(dataset_filename, \"rb\") as f:\n",
        "        dataset = pickle.load(f)\n",
        "        return dataset\n",
        "\n",
        "# lets load the dataset\n",
        "dataset = load_dataset(\"pa1_grasp_dataset.pkl\")\n",
        "\n",
        "\n",
        "# The dataset format is like below\n",
        "# data = {\n",
        "#   \"image_obs\": np.ndarray,\n",
        "#   \"joint_state\": np.ndarray,\n",
        "#   \"position_state\": np.ndarray,\n",
        "#   \"action\": np.ndarray\n",
        "# }\n",
        "# check some details of it\n",
        "print (f\"# datapoints in the dataset: {len(dataset['image_obs'])}\")\n",
        "print (f\"Shape of image observations {dataset['image_obs'].shape}\") # should be (N, 240, 240, 3)\n",
        "print (f\"Shape of states {dataset['joint_state'].shape}\")           # should be (N, 10)\n",
        "print (f\"Shape of states {dataset['position_state'].shape}\")        # should be (N, 6)\n",
        "print (f\"Shape of actions {dataset['action'].shape}\")               # should be (N, 4), 3 for moving direction and 1 for the gripper"
      ]
    },
    {
      "cell_type": "code",
      "execution_count": null,
      "metadata": {
        "colab": {
          "base_uri": "https://localhost:8080/",
          "height": 207
        },
        "id": "cU9_uaFVJSqH",
        "outputId": "8c6f8737-0ba5-42c2-80bc-6c74393a7c41"
      },
      "outputs": [
        {
          "output_type": "execute_result",
          "data": {
            "text/plain": [
              "<matplotlib.image.AxesImage at 0x7d86a0c0d000>"
            ]
          },
          "metadata": {},
          "execution_count": 8
        },
        {
          "output_type": "display_data",
          "data": {
            "text/plain": [
              "<Figure size 640x480 with 1 Axes>"
            ],
            "image/png": "[encoded data removed]"
          },
          "metadata": {}
        }
      ],
      "source": [
        "# Take a look of several samples in the dataset\n",
        "import matplotlib.pyplot as plt\n",
        "%matplotlib inline\n",
        "indices = [0,30,300,1000]\n",
        "sample_image = np.hstack([i for i in dataset[\"image_obs\"][indices]])\n",
        "plt.imshow(sample_image)"
      ]
    },
    {
      "cell_type": "code",
      "execution_count": null,
      "metadata": {
        "colab": {
          "base_uri": "https://localhost:8080/"
        },
        "id": "TUH59oy8JSqI",
        "outputId": "1ff87c7f-1ba1-495c-c970-c02c9eb89d0f"
      },
      "outputs": [
        {
          "output_type": "stream",
          "name": "stdout",
          "text": [
            "intended training set length 1520\n",
            "# datapoints in the training set: 1520\n",
            "# datapoints in the evaluation set: 380\n"
          ]
        }
      ],
      "source": [
        "# let's split the data into training and evaluation set\n",
        "# we naively use the first 80% to train and last 20% for evaluation\n",
        "dataset_len = len(dataset[\"image_obs\"])\n",
        "train_len = int(dataset_len*0.8)\n",
        "# training set\n",
        "train_set = {\n",
        "    \"image_obs\": dataset[\"image_obs\"][:train_len],\n",
        "    \"joint_state\": dataset[\"joint_state\"][:train_len],\n",
        "    \"position_state\": dataset[\"position_state\"][:train_len],\n",
        "    \"action\": dataset[\"action\"][:train_len]\n",
        "}\n",
        "# evaluation set\n",
        "eval_set = {\n",
        "    \"image_obs\": dataset[\"image_obs\"][train_len:],\n",
        "    \"joint_state\": dataset[\"joint_state\"][train_len:],\n",
        "    \"position_state\": dataset[\"position_state\"][train_len:],\n",
        "    \"action\": dataset[\"action\"][train_len:]\n",
        "}\n",
        "\n",
        "# check them\n",
        "print (f\"intended training set length {train_len}\")\n",
        "print (f\"# datapoints in the training set: {len(train_set['image_obs'])}\")\n",
        "print (f\"# datapoints in the evaluation set: {len(eval_set['image_obs'])}\")"
      ]
    },
    {
      "cell_type": "code",
      "execution_count": null,
      "metadata": {
        "id": "A_WCaA1CJSqI"
      },
      "outputs": [],
      "source": [
        "# a base class for you to develop your own algorithm and for evaluation the performance\n",
        "# you don't need to modify this\n",
        "# but taking a look is good for understanding the machine learning and robot learning pipeline\n",
        "class Algorithm:\n",
        "\n",
        "    def __init__(self, model=None):\n",
        "        self.model = model # put your model here, if you need it (e.g. a neural network)\n",
        "\n",
        "    # in the following section, you will need to implement this function\n",
        "    # Note: you don't need to change everything in this exact code cell\n",
        "    def policy(self, input_state: np.ndarray) -> np.ndarray:\n",
        "        \"\"\"\n",
        "        args:\n",
        "        input_state: input state in shape (B, D) where N is the length of the batch and D is the dimension of the state (feature)\n",
        "        return:\n",
        "        an np.ndarray action vector in shape (B, 4)\n",
        "        \"\"\"\n",
        "        raise NotImplementedError\n",
        "\n",
        "    # in the following section, you will need to implement this function to\n",
        "    # train (using neural network) or initialize (using linear regression / nearest neighbor) your model\n",
        "    def train(self, train_set):\n",
        "        pass\n",
        "\n",
        "    # method to evaluate your policy\n",
        "    def eval(self, eval_set, input_state_type=\"position_state\"):\n",
        "        eval_len = len(eval_set[\"image_obs\"])\n",
        "        errors = []\n",
        "        for i in range(eval_len):\n",
        "            obs = eval_set[input_state_type][i]\n",
        "            target_action = eval_set[\"action\"][i]\n",
        "            pred_action = self.policy(obs[None,])[0]\n",
        "            errors.append(np.linalg.norm(target_action - pred_action))\n",
        "        print (f\"Evaluation on dataset, errors: {np.mean(errors):.4f}\")\n",
        "\n",
        "    # optinally, you can try to evaluate in an environment\n",
        "    def eval_in_env(self, input_state_type=\"position_state\", eval_num=3):\n",
        "        config = {\n",
        "            \"pick\": [\"yellow block\"] # currently we support {red, blue, green, yellow}\n",
        "        }\n",
        "        env = PickObjectEnv()\n",
        "        all_rewards = []\n",
        "        for eval_ep in range(eval_num):\n",
        "            obs = env.reset(config)\n",
        "            done = False\n",
        "            rewards = 0\n",
        "            step_count = 0\n",
        "            while step_count < 80: # reduce this if it takes to long to evaluate\n",
        "                input_state = self.get_input_state_from_obs(obs, input_state_type)[None, :]\n",
        "                action = self.policy(input_state)[0]\n",
        "                obs, reward, done, _, _ = env.step(action)\n",
        "                rewards += reward\n",
        "                step_count += 1\n",
        "            all_rewards.append(rewards)\n",
        "            env.show_env_record()\n",
        "        print (f\"Evaluation on envs, result: {np.mean(all_rewards):.4f} +/- {np.std(all_rewards):.4f}\")\n",
        "\n",
        "\n",
        "    # you won't worry about this\n",
        "    def get_input_state_from_obs(self, obs, input_state_type):\n",
        "        if input_state_type == \"joint_state\":\n",
        "            return np.concatenate([obs[\"joint_state\"], obs[\"block_position\"]])\n",
        "        elif input_state_type == \"position_state\":\n",
        "            return np.concatenate([obs[\"ee_position\"], obs[\"block_position\"]])\n",
        "        elif input_state_type == \"image_obs\":\n",
        "            return obs[\"image_obs\"]\n"
      ]
    },
    {
      "cell_type": "markdown",
      "metadata": {
        "id": "eE5i2uYrJSqI"
      },
      "source": [
        "As introduced in the class, to describe the status of the environment, we can use either numerical states (from some measurements), or image observations.\n",
        "In this assignment, we will mainly use the numerical states.\n",
        "\n",
        "## 1. Nearest neighbor using position states\n",
        "\n",
        "Let's first use \"position_states\" in the given dataset because it is easier for the model.\n",
        "Since the task is to reach and grasp the target block, the positions of the robot arm (end-effector) and the target block are enough to describe the environment.\n",
        "The \"position_states\" in the dataset are designed to contain such information.\n",
        "As shown above, they are in the shape of (N, 6).\n",
        "N is the length of the whole dataset, so let's focus on (6), the dimension of each state.\n",
        "The first 3 dimensions correspond to the coordinates of the end effector of the robot arm. The last 3 correspond to the coordinates of the target block.\n",
        "\n",
        "The objective is to write a nearest neighbor algorithm that takes in a state, and find the target action according to its nearest neighbor in the training set.\n",
        "A summary is below:\n",
        "\n",
        "- Input: \"position_states\"\n",
        "- Output: \"action\"\n",
        "- Algorithm: nearest neighbor"
      ]
    },
    {
      "cell_type": "code",
      "execution_count": null,
      "metadata": {
        "id": "cunBaxV5JSqI",
        "colab": {
          "base_uri": "https://localhost:8080/"
        },
        "outputId": "8ab5323a-9bc2-4845-d84a-87bf26cf29e8"
      },
      "outputs": [
        {
          "output_type": "stream",
          "name": "stdout",
          "text": [
            "Evaluation on dataset, errors: 0.1282\n"
          ]
        }
      ],
      "source": [
        "class NearestNeighbor(Algorithm):\n",
        "    def __init__(self, model=None):\n",
        "        self.train_set = None\n",
        "\n",
        "    def policy(self, input_state: np.ndarray) -> np.ndarray:\n",
        "        # Instruction: please write how your model will give output action given an input state\n",
        "        # Hint: compare your input state with your training dataset and return a suitable action\n",
        "        # you may not necessarily use Pytorch here. Either Numpy or Pytorch is good.\n",
        "        # Shape of input_state: (1, D) np.ndarray, D is the dimension of state vector, which is 6 in this part\n",
        "        # Shape of the desired output: (1, 4) np.ndarray\n",
        "        #====Please write your codes here======\n",
        "        res = np.array([1,4])\n",
        "        #len(train_set['position_state'])\n",
        "        # print(train_set['position_state'][0][0])\n",
        "        # print(input_state[0][0])\n",
        "        min = float('inf')\n",
        "        for i in range(len(train_set['position_state'])):\n",
        "          temp = 0.0\n",
        "          for j in range(6):\n",
        "            temp += train_set['position_state'][i][j] - input_state[0][j]\n",
        "          if (temp < min):\n",
        "            min = temp\n",
        "            res = train_set['action'][i]\n",
        "\n",
        "        return res\n",
        "        #======================================\n",
        "\n",
        "    def train(self, train_set):\n",
        "        # remember the training set, which will be used in your policy\n",
        "        # this method is called \"train\", but actually you don't need training in nearest neighbor algorithm\n",
        "        self.train_set = train_set\n",
        "\n",
        "nearest_neighbor_algorithm = NearestNeighbor()\n",
        "nearest_neighbor_algorithm.train(train_set)\n",
        "nearest_neighbor_algorithm.eval(eval_set)\n",
        "# nearest_neighbor_algorithm.eval_in_env(input_state_type=\"position_state\", eval_num=3) # optinally you can test in the env!"
      ]
    },
    {
      "cell_type": "markdown",
      "metadata": {
        "id": "PjUoP_6uJSqI"
      },
      "source": [
        "## 2. Linear regression using position states\n",
        "Now let's move a step further to use linear regression for the same type of input (position states)\n",
        "\n",
        "A summary is below:\n",
        "\n",
        "- Input: \"position_states\"\n",
        "- Output: \"action\"\n",
        "- Algorithm: Linear Regression"
      ]
    },
    {
      "cell_type": "code",
      "execution_count": null,
      "metadata": {
        "id": "hL9ZwS7mJSqI",
        "colab": {
          "base_uri": "https://localhost:8080/"
        },
        "outputId": "d39010ed-4d60-498b-ed58-00625f77f961"
      },
      "outputs": [
        {
          "output_type": "stream",
          "name": "stdout",
          "text": [
            "Evaluation on dataset, errors: 0.1414\n"
          ]
        }
      ],
      "source": [
        "import torch.nn as nn\n",
        "class LinearRegressionModel(nn.Module):\n",
        "    def __init__(self):\n",
        "        super().__init__()\n",
        "        # Instruction: define your linear regression model here using pytorch\n",
        "        #====Please write your codes here======\n",
        "        self.linear = torch.nn.Linear(6, 4)\n",
        "\n",
        "        #======================================\n",
        "\n",
        "    def forward(self, x):\n",
        "        # Instruction: define how you will calculate the predicted action from the input state (x)\n",
        "        #               using your defined linear regression model\n",
        "        #====Please write your codes here======\n",
        "        out = self.linear(x).float()\n",
        "        return out\n",
        "\n",
        "        #======================================\n",
        "\n",
        "class LinearRegression(Algorithm):\n",
        "    def __init__(self, model: LinearRegressionModel):\n",
        "        self.model = model\n",
        "\n",
        "    def policy(self, input_state: np.ndarray) -> np.ndarray:\n",
        "        # Instruction: please write how your model will give output action given an input state\n",
        "        # Hint: some parts will be similar to train(), since in train() you are also required to\n",
        "        #       generate actions from your model\n",
        "        # Hint: when to use pytorch layers, you need to convert ndarray to pytorch tensor\n",
        "        #       after you get the result from the layer, convert the tensor to ndarray using \".numpy()\"\n",
        "        #       Example: input_state = torch.tensor(input_state)\n",
        "        #                output_action = yourlayer(input_state).numpy()\n",
        "        #       If you are using GPU:\n",
        "        #       Example: input_state = torch.tensor(input_state).cuda()\n",
        "        #                output_action = yourlayer(input_state).detach().cpu().numpy()\n",
        "        # Shape of input_state: (1, D) np.ndarray, D is the dimension of state vector, which is 6 in this part\n",
        "        # Shape of the desired output: (1, 4) np.ndarray\n",
        "        #====Please write your codes here======\n",
        "        input_data = torch.tensor(input_state[0])\n",
        "        predicted = self.model(input_data.float()).data.numpy()\n",
        "        return predicted\n",
        "\n",
        "        #======================================\n",
        "\n",
        "    def train(self, train_set):\n",
        "        # remember the training set, which will be used in your policy\n",
        "        self.train_set = train_set\n",
        "        # Instruction: please write how to train your model (self.model) given the training set.\n",
        "        #               Recall that a training requries you a loss function, an optimizer, and a\n",
        "        #               loop to iteratively train your model\n",
        "        #====Please write your codes here======\n",
        "        optimizer = torch.optim.Adam((self.model).parameters())\n",
        "        criterion = nn.MSELoss()\n",
        "        for epoch in range(len(train_set['position_state'])):\n",
        "          input_data = torch.tensor(train_set['position_state'][epoch])\n",
        "          predicted = torch.tensor(train_set['action'][epoch])\n",
        "          optimizer.zero_grad()\n",
        "          outputs = self.model(input_data.float())\n",
        "          loss = criterion(outputs, predicted.float())\n",
        "          loss.backward()\n",
        "          optimizer.step()\n",
        "          # print('epoch {}, loss {}'.format(epoch, loss.item()))\n",
        "        #======================================\n",
        "\n",
        "linear_regression_model = LinearRegressionModel()\n",
        "linear_regression_algorithm = LinearRegression(linear_regression_model)\n",
        "linear_regression_algorithm.train(train_set)\n",
        "linear_regression_algorithm.eval(eval_set)\n",
        "# linear_regression_algorithm.eval_in_env(input_state_type=\"position_state\", eval_num=3) # optinally you can test in the env!"
      ]
    },
    {
      "cell_type": "markdown",
      "metadata": {
        "id": "PZJNcQuYJSqI"
      },
      "source": [
        "## 3. \"Deep\" Learning: Multi-Layer Perceptron (MLP) using position states\n",
        "Now let's see how a deep learning approach solves this problem.\n",
        "You are required to implement a MLP as your policy.\n",
        "The exact style of the MLP is not constrained, but you need to:\n",
        " - At least having 3 linear layers in MLP.\n",
        " - Having activation functions in between them, according to the lecture.\n",
        "\n",
        "A summary is below:\n",
        "\n",
        "- Input: \"position_state\"\n",
        "- Output: \"action\"\n",
        "- Algorithm: MLP"
      ]
    },
    {
      "cell_type": "code",
      "execution_count": null,
      "metadata": {
        "id": "csudxEtWJSqJ",
        "colab": {
          "base_uri": "https://localhost:8080/"
        },
        "outputId": "ffac6bf5-20d4-41bc-f90c-fd4d02b5c04b"
      },
      "outputs": [
        {
          "output_type": "stream",
          "name": "stdout",
          "text": [
            "Evaluation on dataset, errors: 0.1186\n"
          ]
        }
      ],
      "source": [
        "import torch.nn as nn\n",
        "class MLPModel(nn.Module):\n",
        "    def __init__(self):\n",
        "        super().__init__()\n",
        "        # Instruction: define your MLP here using pytorch\n",
        "        # Hint: something like\n",
        "        # self.model = nn.Sequential(\n",
        "        #     nn.Linear(),\n",
        "        #     ...\n",
        "        # )\n",
        "        #====Please write your codes here======\n",
        "        hidden_units = 256\n",
        "        self.model = nn.Sequential(\n",
        "            nn.Linear(6, hidden_units),\n",
        "            nn.ReLU(),\n",
        "            nn.Linear(hidden_units, hidden_units),\n",
        "            nn.ReLU(),\n",
        "            nn.Linear(hidden_units, hidden_units),\n",
        "            nn.ReLU(),\n",
        "            nn.Linear(hidden_units, 4)\n",
        "        )\n",
        "        #======================================\n",
        "\n",
        "    def forward(self, x):\n",
        "        # Instruction: define how you will calculate the predicted action from the input state (x)\n",
        "        #               using your defined MLP model\n",
        "        #====Please write your codes here======\n",
        "        out = self.model(x).float()\n",
        "        return out\n",
        "\n",
        "        #======================================\n",
        "\n",
        "class MLP(Algorithm):\n",
        "    def __init__(self, model: MLPModel):\n",
        "        self.model = model\n",
        "\n",
        "    def policy(self, input_state: np.ndarray) -> np.ndarray:\n",
        "        # Instruction: please write how your model will give output action given an input state\n",
        "        # Hint: some parts will be similar to train(), since in train() you are also required to\n",
        "        #       generate actions from your model\n",
        "        # Hint: when to use pytorch layers, you need to convert ndarray to pytorch tensor\n",
        "        #       after you get the result from the layer, convert the tensor to ndarray using \".numpy()\"\n",
        "        #       Example: input_state = torch.tensor(input_state)\n",
        "        #                output_action = yourlayer(input_state).numpy()\n",
        "        #       If you are using GPU:\n",
        "        #       Example: input_state = torch.tensor(input_state).cuda()\n",
        "        #                output_action = yourlayer(input_state).detach().cpu().numpy()\n",
        "        # Shape of input_state: (1, D) np.ndarray, D is the dimension of state vector, which is 6 in this part\n",
        "        # Shape of the desired output: (1, 4) np.ndarray\n",
        "        #====Please write your codes here======\n",
        "        input_data = torch.tensor(input_state[0])\n",
        "        predicted = self.model(input_data.float()).data.numpy()\n",
        "        return predicted\n",
        "\n",
        "        #======================================\n",
        "\n",
        "    def train(self, train_set):\n",
        "        # remember the training set, which will be used in your policy\n",
        "        self.train_set = train_set\n",
        "        # Instruction: please write how to train your model (self.model) given the training set.\n",
        "        #               Recall that a training requries you a loss function, an optimizer, and a\n",
        "        #               loop to iteratively train your model\n",
        "        #====Please write your codes here======\n",
        "        loss_function = nn.CrossEntropyLoss()\n",
        "        optimizer = torch.optim.Adam((self.model).parameters())\n",
        "\n",
        "        for epoch in range(len(train_set['position_state'])):\n",
        "          input_data = torch.tensor(train_set['position_state'][epoch])\n",
        "          predicted = torch.tensor(train_set['action'][epoch])\n",
        "          optimizer.zero_grad()\n",
        "          output = self.model(input_data.float())\n",
        "          loss = nn.functional.mse_loss(output, predicted.float())\n",
        "          loss.backward()\n",
        "          optimizer.step()\n",
        "\n",
        "        #======================================\n",
        "\n",
        "mlp_model = MLPModel()\n",
        "mlp_algorithm = MLP(mlp_model)\n",
        "mlp_algorithm.train(train_set)\n",
        "mlp_algorithm.eval(eval_set, input_state_type=\"position_state\")\n",
        "# mlp_algorithm.eval_in_env(input_state_type=\"position_state\", eval_num=3) # optinally you can test in the env!"
      ]
    },
    {
      "cell_type": "markdown",
      "metadata": {
        "id": "GKRBdvLWJSqJ"
      },
      "source": [
        "## 4. Using joint states\n",
        "\n",
        "Now let's try a bit more challenging situation: we move to use joint states instead of positions of the robot. Joint states is not as \"straightforward\" as those coordinates. Though, we still need to regress a nice target action out of joint robot state and the coordinates of the block.\n",
        "\n",
        "We will use \"joint_state\" in the dataset.\n",
        "The \"joint_state\" has shape (N, 10), and we will look into (10), which is the dimension of each state.\n",
        "The first 7 dimensions discribe the status of the robot.\n",
        "Within it, the first 6 dimensions describe the rotation angles of 6 joints in the robot, and the last dimension indicates the status of the gripper (1 for activated/closed and 0 for deactivated/released).\n",
        "The last 3 dimensions of the state represents the coordinates of the target block.\n",
        "\n",
        "The objective is to regress target action out of given \"joint_state\". You will use MLP model to do this\n",
        "\n",
        "A summary is below:\n",
        "\n",
        "- Input: \"joint_state\"\n",
        "- Output: \"action\"\n",
        "- Algorithm: MLP"
      ]
    },
    {
      "cell_type": "code",
      "execution_count": null,
      "metadata": {
        "id": "cYb-CFi1JSqJ",
        "colab": {
          "base_uri": "https://localhost:8080/"
        },
        "outputId": "53ed8e98-a472-413a-873e-cb8bd838e55a"
      },
      "outputs": [
        {
          "output_type": "stream",
          "name": "stdout",
          "text": [
            "Evaluation on dataset, errors: 0.1241\n"
          ]
        }
      ],
      "source": [
        "import torch.nn as nn\n",
        "class MLPModelJointState(nn.Module):\n",
        "    def __init__(self):\n",
        "        super().__init__()\n",
        "        # Instruction: define your MLP here using pytorch\n",
        "        # Hint: something like\n",
        "        # self.model = nn.Sequential(\n",
        "        #     nn.Linear(),\n",
        "        #     ...\n",
        "        # )\n",
        "        #====Please write your codes here======\n",
        "        hidden_units = 200\n",
        "        self.model = nn.Sequential(\n",
        "            nn.Linear(10, hidden_units),\n",
        "            nn.ReLU(),\n",
        "            nn.Linear(hidden_units, hidden_units),\n",
        "            nn.ReLU(),\n",
        "            nn.Linear(hidden_units, hidden_units),\n",
        "            nn.ReLU(),\n",
        "            nn.Linear(hidden_units, 4)\n",
        "        )\n",
        "\n",
        "        #======================================\n",
        "\n",
        "    def forward(self, x):\n",
        "        # Instruction: define how you will calculate the predicted action from the input state (x)\n",
        "        #               using your defined MLP model\n",
        "        #====Please write your codes here======\n",
        "        out = self.model(x).float()\n",
        "        return out\n",
        "\n",
        "        #======================================\n",
        "\n",
        "class MLPJointState(Algorithm):\n",
        "    def __init__(self, model: MLPModelJointState):\n",
        "        self.model = model\n",
        "\n",
        "    def policy(self, input_state: np.ndarray) -> np.ndarray:\n",
        "        # Instruction: please write how your model will give output action given an input state\n",
        "        # Hint: some parts will be similar to train(), since in train() you are also required to\n",
        "        #       generate actions from your model\n",
        "        # Hint: when to use pytorch layers, you need to convert ndarray to pytorch tensor\n",
        "        #       after you get the result from the layer, convert the tensor to ndarray using \".numpy()\"\n",
        "        #       Example: input_state = torch.tensor(input_state)\n",
        "        #                output_action = yourlayer(input_state).numpy()\n",
        "        #       If you are using GPU:\n",
        "        #       Example: input_state = torch.tensor(input_state).cuda()\n",
        "        #                output_action = yourlayer(input_state).detach().cpu().numpy()\n",
        "        # Shape of input_state: (1, D) np.ndarray, D is the dimension of state vector, which is 10 in this part\n",
        "        # Shape of the desired output: (1, 4) np.ndarray\n",
        "        #====Please write your codes here======\n",
        "        input_data = torch.tensor(input_state[0])\n",
        "        predicted = self.model(input_data.float()).data.numpy()\n",
        "        return predicted\n",
        "\n",
        "        #======================================\n",
        "\n",
        "    def train(self, train_set):\n",
        "        # remember the training set, which will be used in your policy\n",
        "        self.train_set = train_set\n",
        "        # Instruction: please write how to train your model (self.model) given the training set.\n",
        "        #               Recall that a training requries you a loss function, an optimizer, and a\n",
        "        #               loop to iteratively train your model\n",
        "        #====Please write your codes here======\n",
        "        loss_function = nn.CrossEntropyLoss()\n",
        "        optimizer = torch.optim.Adam((self.model).parameters())\n",
        "\n",
        "        for epoch in range(len(train_set['joint_state'])):\n",
        "          input_data = torch.tensor(train_set['joint_state'][epoch])\n",
        "          predicted = torch.tensor(train_set['action'][epoch])\n",
        "          optimizer.zero_grad()\n",
        "          output = self.model(input_data.float())\n",
        "          loss = nn.functional.mse_loss(output, predicted.float())\n",
        "          loss.backward()\n",
        "          optimizer.step()\n",
        "\n",
        "        #======================================\n",
        "\n",
        "mlp_joint_state_model = MLPModelJointState()\n",
        "mlp_joint_state_algorithm = MLPJointState(mlp_joint_state_model)\n",
        "mlp_joint_state_algorithm.train(train_set)\n",
        "mlp_joint_state_algorithm.eval(eval_set, input_state_type=\"joint_state\")\n",
        "# mlp_algorithm.eval_in_env(input_state_type=\"position_state\", eval_num=3) # optinally you can test in the env!"
      ]
    }
  ],
  "metadata": {
    "kernelspec": {
      "display_name": "ta",
      "language": "python",
      "name": "python3"
    },
    "language_info": {
      "codemirror_mode": {
        "name": "ipython",
        "version": 3
      },
      "file_extension": ".py",
      "mimetype": "text/x-python",
      "name": "python",
      "nbconvert_exporter": "python",
      "pygments_lexer": "ipython3",
      "version": "3.10.13"
    },
    "orig_nbformat": 4,
    "colab": {
      "provenance": [],
      "include_colab_link": true
    }
  },
  "nbformat": 4,
  "nbformat_minor": 0
}